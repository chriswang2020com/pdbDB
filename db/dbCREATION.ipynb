{
 "cells": [
  {
   "cell_type": "code",
   "execution_count": 7,
   "id": "064b9d81",
   "metadata": {},
   "outputs": [
    {
     "name": "stdout",
     "output_type": "stream",
     "text": [
      "126 records inserted.\n"
     ]
    }
   ],
   "source": [
    "import pymysql\n",
    "import os\n",
    "\n",
    "# Connect to the database\n",
    "mydb = pymysql.connect(\n",
    "  host=\"localhost\",\n",
    "  user=\"root\",\n",
    "  password=\"000000\",\n",
    "  database=\"pdbqtDB\"\n",
    ")\n",
    "\n",
    "# Create cursor\n",
    "mycursor = mydb.cursor()\n",
    "\n",
    "# Specify the directory you want to read from\n",
    "dir_path = '~/output'\n",
    "\n",
    "# Convert the tilde in the path to the user's home directory\n",
    "dir_path = os.path.expanduser(dir_path)\n",
    "\n",
    "# Get a list of all files in the directory\n",
    "files = os.listdir(dir_path)\n",
    "\n",
    "# For each file in the directory\n",
    "for filename in files:\n",
    "    # If the file has the .pdbqt extension\n",
    "    if filename.endswith(\".pdbqt\"):\n",
    "        # Read the file\n",
    "        with open(os.path.join(dir_path, filename), 'r') as file:\n",
    "            pdbqt_text = file.read()\n",
    "        \n",
    "        # Insert file content to database\n",
    "        sql = \"INSERT INTO pdbqtData (fileName, pdbqtText) VALUES (%s, %s)\"\n",
    "        val = (filename, pdbqt_text)\n",
    "        mycursor.execute(sql, val)\n",
    "\n",
    "# Commit the transaction\n",
    "mydb.commit()\n",
    "\n",
    "print(len(files), \"records inserted.\")\n",
    "\n",
    "# Close the connection\n",
    "mydb.close()\n"
   ]
  },
  {
   "cell_type": "code",
   "execution_count": 10,
   "id": "aa83b212",
   "metadata": {},
   "outputs": [
    {
     "name": "stdout",
     "output_type": "stream",
     "text": [
      "File has been restored.\n"
     ]
    }
   ],
   "source": [
    "import pymysql\n",
    "\n",
    "# Connect to the database\n",
    "mydb = pymysql.connect(\n",
    "  host=\"localhost\",\n",
    "  user=\"root\",\n",
    "  password=\"000000\",\n",
    "  database=\"pdbqtDB\"\n",
    ")\n",
    "\n",
    "# Create cursor\n",
    "mycursor = mydb.cursor()\n",
    "\n",
    "# Query data from database\n",
    "sql = \"SELECT pdbqtText FROM pdbqtData WHERE fileName = %s\"\n",
    "val = (\"Z96057842_1_T2.pdbqt\", )\n",
    "mycursor.execute(sql, val)\n",
    "\n",
    "# Fetch the result\n",
    "result = mycursor.fetchone()\n",
    "\n",
    "# Write to a new pdbqt file\n",
    "with open('Z96057842_1_T2.pdbqt', 'w') as file:\n",
    "    file.write(result[0])\n",
    "\n",
    "print(\"File has been restored.\")\n",
    "\n",
    "# Close the connection\n",
    "mydb.close()\n"
   ]
  },
  {
   "cell_type": "code",
   "execution_count": null,
   "id": "fb306b07",
   "metadata": {},
   "outputs": [],
   "source": []
  }
 ],
 "metadata": {
  "kernelspec": {
   "display_name": "Python 3 (ipykernel)",
   "language": "python",
   "name": "python3"
  },
  "language_info": {
   "codemirror_mode": {
    "name": "ipython",
    "version": 3
   },
   "file_extension": ".py",
   "mimetype": "text/x-python",
   "name": "python",
   "nbconvert_exporter": "python",
   "pygments_lexer": "ipython3",
   "version": "3.8.10"
  }
 },
 "nbformat": 4,
 "nbformat_minor": 5
}
