{
 "cells": [
  {
   "cell_type": "code",
   "execution_count": null,
   "id": "e8b9d659",
   "metadata": {},
   "outputs": [],
   "source": [
    "import pymysql\n",
    "import random\n",
    "import string\n",
    "\n",
    "def get_conn():\n",
    "    conn = pymysql.connect(host=\"localhost\", user=\"root\", password=\"000000\", db=\"tmp\", charset=\"utf8\")\n",
    "    return conn\n",
    "\n",
    "def insert_data(conn, name, value):\n",
    "    with conn.cursor() as cursor:\n",
    "        cursor.execute(\"select * from data_table\")\n",
    "    conn.commit()\n",
    "\n",
    "def generate_random_string(length):\n",
    "    letters = string.ascii_lowercase\n",
    "    return ''.join(random.choice(letters) for _ in range(length))\n",
    "\n",
    "\n",
    "\n",
    "conn = get_conn()\n",
    "\n",
    "for _ in range(1000):\n",
    "    random_name = generate_random_string(10)\n",
    "    random_value = random.randint(0, 100)\n",
    "    insert_data(conn, random_name, random_value)\n",
    "\n",
    "conn.close()\n"
   ]
  },
  {
   "cell_type": "code",
   "execution_count": null,
   "id": "b9085de6",
   "metadata": {},
   "outputs": [],
   "source": [
    "import pymysql\n",
    "\n",
    "def get_conn():\n",
    "    conn = pymysql.connect(host=\"localhost\", user=\"root\", password=\"000000\", db=\"tmp\", charset=\"utf8\")\n",
    "    return conn\n",
    "\n",
    "def select_all(conn):\n",
    "    with conn.cursor() as cursor:\n",
    "        cursor.execute(\"SELECT * FROM data_table\")\n",
    "        result = cursor.fetchall()\n",
    "    return result\n",
    "\n",
    "conn = get_conn()\n",
    "\n",
    "result = select_all(conn)\n",
    "for row in result:\n",
    "    print(row)\n",
    "\n",
    "conn.close()\n"
   ]
  },
  {
   "cell_type": "code",
   "execution_count": null,
   "id": "3d4f12e6",
   "metadata": {},
   "outputs": [],
   "source": [
    "def get_conn():\n",
    "    conn = pymysql.connect(host=\"localhost\", user=\"root\", password=\"000000\", db=\"tmp\", charset=\"utf8\")\n",
    "    cursor = conn.cursor()\n",
    "    return conn, cursor\n",
    "\n",
    "def query(sql, *args):\n",
    "    conn, cursor = get_conn()\n",
    "    cursor.execute(sql, args)\n",
    "    res = cursor.fetchall()\n",
    "    conn.commit()\n",
    "    close_conn(conn, cursor)\n",
    "    return res\n",
    "def data_query():\n",
    "    user_input = request.form.get('keyword')  # 获取用户输入的关键词\n",
    "    sql = \"SELECT * FROM data_table WHERE id = %s\"  # 使用用户输入的关键词作为查询参数\n",
    "    res = query(sql, user_input)  # 执行参数化查询\n",
    "    return res\n",
    "res = data_query()\n"
   ]
  },
  {
   "cell_type": "code",
   "execution_count": null,
   "id": "1183b4a6",
   "metadata": {},
   "outputs": [],
   "source": [
    "print(res)"
   ]
  },
  {
   "cell_type": "code",
   "execution_count": null,
   "id": "314b5c73",
   "metadata": {},
   "outputs": [],
   "source": []
  }
 ],
 "metadata": {
  "kernelspec": {
   "display_name": "Python 3 (ipykernel)",
   "language": "python",
   "name": "python3"
  },
  "language_info": {
   "codemirror_mode": {
    "name": "ipython",
    "version": 3
   },
   "file_extension": ".py",
   "mimetype": "text/x-python",
   "name": "python",
   "nbconvert_exporter": "python",
   "pygments_lexer": "ipython3",
   "version": "3.8.10"
  }
 },
 "nbformat": 4,
 "nbformat_minor": 5
}
